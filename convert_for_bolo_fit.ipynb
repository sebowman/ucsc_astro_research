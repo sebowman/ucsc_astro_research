{
 "cells": [
  {
   "cell_type": "markdown",
   "metadata": {},
   "source": [
    "This code takes as input the bolometric luminosity data output by Matt Nicholl's superbol code (as a text file named in the format like 'bol_iPTF13bvn_UBVI.txt') and converts it for input into Wynn Jacobson-Galan's pseudo-bolometric light curve fitting code 'Bateman-Eqn-Pseudo-Bolo-LC-Fit.ipynb'.  It also requires the discovery date for each object and the desired filename for the output file, which will be a csv in the format '{filename}_bol.txt' .  It first selects only data with a phase of 50 days or later past the discovery date for analysis.   It then removes the luminosity data with blackbody correction, converts the observed luminosity data and uncertainty to log space, and converts the observation date to a phase by subtracting the discovery date of the SN."
   ]
  },
  {
   "cell_type": "code",
   "execution_count": 18,
   "metadata": {},
   "outputs": [],
   "source": [
    "#import dependencies\n",
    "import numpy as np \n",
    "%matplotlib inline\n",
    "import matplotlib.pyplot as plt\n",
    "import pandas as pd\n",
    "import csv\n",
    "from astropy.time import Time"
   ]
  },
  {
   "cell_type": "code",
   "execution_count": 19,
   "metadata": {},
   "outputs": [],
   "source": [
    "#read in the csv files; specify tab delimited and skip the irrelevant 10 lines at the bottom of the file\n",
    "iPTF13bvn = pd.read_csv('bol_iPTF13bvn_UBVI.txt', engine='python', delimiter='\\t',header=0, skipfooter=10)\n",
    "SN2006aj = pd.read_csv('bol_SN2006aj_BVRI.txt', engine='python', delimiter='\\t',header=0, skipfooter=10)\n",
    "SN2007uy = pd.read_csv('bol_SN2007uy_VI.txt', engine='python', delimiter='\\t',header=0, skipfooter=10)\n",
    "SN1993J = pd.read_csv('bol_SN1993J_UBVRI.txt', engine='python', delimiter='\\t',header=0, skipfooter=10)\n",
    "iPTF13bvnlt = pd.read_csv('bol_iPTF13bvnlt_UBVI.txt', engine='python', delimiter='\\t',header=0, skipfooter=10)\n",
    "SN1993Jlt = pd.read_csv('bol_SN1993Jlt_UBVRI.txt', engine='python', delimiter='\\t',header=0, skipfooter=10)\n",
    "SN2007uylt = pd.read_csv('bol_SN2007uylt_VI.txt', engine='python', delimiter='\\t',header=0, skipfooter=10)\n",
    "SN2006ajlt = pd.read_csv('bol_SN2006ajlt_BVRI.txt', engine='python', delimiter='\\t',header=0, skipfooter=10)"
   ]
  },
  {
   "cell_type": "code",
   "execution_count": null,
   "metadata": {},
   "outputs": [],
   "source": [
    "#select data 50 days or later past discovery\n",
    "iPTF13bvn = iPTF13bvn[iPTF13bvn.ph >=iPTF13bvn.ph[0]+50]\n",
    "SN2006aj = SN2006aj[SN2006aj.ph >=SN2006aj.ph[0]+50]\n",
    "SN2007uy = SN2007uy[SN2007uy.ph >=SN2007uy.ph[0]+50]\n",
    "SN1993J = SN1993J[SN1993J.ph >=SN1993J.ph[0]+50]"
   ]
  },
  {
   "cell_type": "code",
   "execution_count": 12,
   "metadata": {},
   "outputs": [],
   "source": [
    "#define a function for selecting and converting the data we want\n",
    "def convert(data,date_dsc,fname):\n",
    "    #drop columns for luminosity data & uncertainty w/blackbody correction\n",
    "    data = data.drop(['L+BB','errbb'],axis=1)\n",
    "    #convert date to phase = days past discovery\n",
    "    data.ph = data.ph - date_dsc\n",
    "    #convert uncertainty to log space using propogation of error\n",
    "    data.err = np.log10(np.e)/(data['Lobs'])*(data.err)\n",
    "    #convert data to log space \n",
    "    data['Lobs'] = np.log10(data['Lobs'])\n",
    "    #write to a new csv file\n",
    "    data.to_csv(str(fname) + '_bol.txt',index=False)"
   ]
  },
  {
   "cell_type": "code",
   "execution_count": 6,
   "metadata": {},
   "outputs": [],
   "source": [
    "#evaluate the convert function for several objects\n",
    "convert(iPTF13bvn,56459,'iPTF13bvn')\n",
    "convert(iPTF13bvnlt,56459,'iPTF13bvnlt')\n",
    "convert(SN1993J,49074,'1993J')\n",
    "convert(SN1993Jlt,49074,'1993Jlt')\n",
    "convert(SN2006aj,53784,'2006aj')\n",
    "convert(SN2006ajlt,53784,'2006ajlt')\n",
    "convert(SN2007uy,54465,'2007uy')\n",
    "convert(SN2007uylt,54465,'2007uylt')"
   ]
  },
  {
   "cell_type": "code",
   "execution_count": 13,
   "metadata": {},
   "outputs": [],
   "source": [
    "#this does the same thing as the previous function, but it appends the late time data to the early time data first\n",
    "def convert_both(data,data_lt,date_dsc,fname):\n",
    "    #append late time data to early time data\n",
    "    data = data.append(data_lt)\n",
    "    #drop columns for luminosity data & uncertainty w/blackbody correction\n",
    "    data = data.drop(['L+BB','errbb'],axis=1)\n",
    "    #convert date to phase = days past discovery\n",
    "    data.ph = data.ph - date_dsc\n",
    "    #convert uncertainty to log space using propogation of error\n",
    "    data.err = np.log10(np.e)/(data['Lobs'])*(data.err)\n",
    "    #convert data to log space \n",
    "    data['Lobs'] = np.log10(data['Lobs'])\n",
    "    #write to a new csv file\n",
    "    data.to_csv(str(fname) + '_bol.txt',index=False)"
   ]
  },
  {
   "cell_type": "code",
   "execution_count": 14,
   "metadata": {},
   "outputs": [],
   "source": [
    "#evaluate the convert_both function for several objects\n",
    "convert_both(iPTF13bvn,iPTF13bvnlt,56459,'iPTF13bvn_both')\n",
    "convert_both(SN1993J,SN1993Jlt,49074,'1993J_both')\n",
    "convert_both(SN2006aj,SN2006ajlt,53784,'2006aj_both')\n",
    "convert_both(SN2007uy,SN2007uylt,54465,'2007uy_both')"
   ]
  },
  {
   "cell_type": "code",
   "execution_count": null,
   "metadata": {},
   "outputs": [],
   "source": []
  }
 ],
 "metadata": {
  "anaconda-cloud": {},
  "kernelspec": {
   "display_name": "Python 3",
   "language": "python",
   "name": "python3"
  },
  "language_info": {
   "codemirror_mode": {
    "name": "ipython",
    "version": 3
   },
   "file_extension": ".py",
   "mimetype": "text/x-python",
   "name": "python",
   "nbconvert_exporter": "python",
   "pygments_lexer": "ipython3",
   "version": "3.7.1"
  }
 },
 "nbformat": 4,
 "nbformat_minor": 1
}
